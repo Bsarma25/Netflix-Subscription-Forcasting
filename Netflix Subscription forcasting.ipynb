{
 "cells": [
  {
   "cell_type": "code",
   "execution_count": 129,
   "id": "544eec15-a7d3-4751-a552-1f55d297577b",
   "metadata": {
    "tags": []
   },
   "outputs": [],
   "source": [
    "import numpy as np\n",
    "import pandas as pd\n",
    "import matplotlib.pyplot as plt\n",
    "import seaborn as sns\n",
    "import time\n",
    "from statsmodels.tsa.stattools import adfuller\n",
    "from statsmodels.graphics.tsaplots import plot_acf, plot_pacf\n",
    "from statsmodels.tsa.arima.model import ARIMA\n",
    "from datetime import timedelta"
   ]
  },
  {
   "cell_type": "code",
   "execution_count": 121,
   "id": "ec2b262a-efa2-4535-9be6-8016d9c7159c",
   "metadata": {
    "tags": []
   },
   "outputs": [],
   "source": [
    "df=pd.read_csv(r\"C:\\Users\\sbana\\DATA SCIENCE PROJECTS\\NETFLIX FORCASTING\\Netflix-Subscriptions.csv\")"
   ]
  },
  {
   "cell_type": "code",
   "execution_count": 98,
   "id": "bd74b1f8-31eb-4d2a-886f-61c6e092d373",
   "metadata": {
    "tags": []
   },
   "outputs": [
    {
     "data": {
      "text/html": [
       "<div>\n",
       "<style scoped>\n",
       "    .dataframe tbody tr th:only-of-type {\n",
       "        vertical-align: middle;\n",
       "    }\n",
       "\n",
       "    .dataframe tbody tr th {\n",
       "        vertical-align: top;\n",
       "    }\n",
       "\n",
       "    .dataframe thead th {\n",
       "        text-align: right;\n",
       "    }\n",
       "</style>\n",
       "<table border=\"1\" class=\"dataframe\">\n",
       "  <thead>\n",
       "    <tr style=\"text-align: right;\">\n",
       "      <th></th>\n",
       "      <th>Time Period</th>\n",
       "      <th>Subscribers</th>\n",
       "    </tr>\n",
       "  </thead>\n",
       "  <tbody>\n",
       "    <tr>\n",
       "      <th>0</th>\n",
       "      <td>01/04/2013</td>\n",
       "      <td>34240000</td>\n",
       "    </tr>\n",
       "    <tr>\n",
       "      <th>1</th>\n",
       "      <td>01/07/2013</td>\n",
       "      <td>35640000</td>\n",
       "    </tr>\n",
       "    <tr>\n",
       "      <th>2</th>\n",
       "      <td>01/10/2013</td>\n",
       "      <td>38010000</td>\n",
       "    </tr>\n",
       "    <tr>\n",
       "      <th>3</th>\n",
       "      <td>01/01/2014</td>\n",
       "      <td>41430000</td>\n",
       "    </tr>\n",
       "    <tr>\n",
       "      <th>4</th>\n",
       "      <td>01/04/2014</td>\n",
       "      <td>46130000</td>\n",
       "    </tr>\n",
       "  </tbody>\n",
       "</table>\n",
       "</div>"
      ],
      "text/plain": [
       "  Time Period  Subscribers\n",
       "0  01/04/2013     34240000\n",
       "1  01/07/2013     35640000\n",
       "2  01/10/2013     38010000\n",
       "3  01/01/2014     41430000\n",
       "4  01/04/2014     46130000"
      ]
     },
     "execution_count": 98,
     "metadata": {},
     "output_type": "execute_result"
    }
   ],
   "source": [
    "df.head()"
   ]
  },
  {
   "cell_type": "code",
   "execution_count": 122,
   "id": "9a09de93-7f20-4349-bb34-ba600b29a69d",
   "metadata": {
    "tags": []
   },
   "outputs": [],
   "source": [
    "df['Time Period']=pd.to_datetime(df['Time Period'],format='%d/%m/%Y')\n",
    "# df['Time Period']=df['Time Period'].dt.date\n",
    "df.set_index('Time Period',inplace=True)"
   ]
  },
  {
   "cell_type": "code",
   "execution_count": 123,
   "id": "6a8f644e-e43d-4475-9157-341bb2f9f0a7",
   "metadata": {
    "tags": []
   },
   "outputs": [
    {
     "data": {
      "text/html": [
       "<div>\n",
       "<style scoped>\n",
       "    .dataframe tbody tr th:only-of-type {\n",
       "        vertical-align: middle;\n",
       "    }\n",
       "\n",
       "    .dataframe tbody tr th {\n",
       "        vertical-align: top;\n",
       "    }\n",
       "\n",
       "    .dataframe thead th {\n",
       "        text-align: right;\n",
       "    }\n",
       "</style>\n",
       "<table border=\"1\" class=\"dataframe\">\n",
       "  <thead>\n",
       "    <tr style=\"text-align: right;\">\n",
       "      <th></th>\n",
       "      <th>Subscribers</th>\n",
       "    </tr>\n",
       "    <tr>\n",
       "      <th>Time Period</th>\n",
       "      <th></th>\n",
       "    </tr>\n",
       "  </thead>\n",
       "  <tbody>\n",
       "    <tr>\n",
       "      <th>2013-04-01</th>\n",
       "      <td>34240000</td>\n",
       "    </tr>\n",
       "    <tr>\n",
       "      <th>2013-07-01</th>\n",
       "      <td>35640000</td>\n",
       "    </tr>\n",
       "    <tr>\n",
       "      <th>2013-10-01</th>\n",
       "      <td>38010000</td>\n",
       "    </tr>\n",
       "    <tr>\n",
       "      <th>2014-01-01</th>\n",
       "      <td>41430000</td>\n",
       "    </tr>\n",
       "    <tr>\n",
       "      <th>2014-04-01</th>\n",
       "      <td>46130000</td>\n",
       "    </tr>\n",
       "  </tbody>\n",
       "</table>\n",
       "</div>"
      ],
      "text/plain": [
       "             Subscribers\n",
       "Time Period             \n",
       "2013-04-01      34240000\n",
       "2013-07-01      35640000\n",
       "2013-10-01      38010000\n",
       "2014-01-01      41430000\n",
       "2014-04-01      46130000"
      ]
     },
     "execution_count": 123,
     "metadata": {},
     "output_type": "execute_result"
    }
   ],
   "source": [
    "df.head()"
   ]
  },
  {
   "cell_type": "code",
   "execution_count": 141,
   "id": "d98b98e4-f0fa-4bcd-937a-5cde16031ddf",
   "metadata": {
    "tags": []
   },
   "outputs": [
    {
     "data": {
      "text/plain": [
       "Subscribers    0\n",
       "dtype: int64"
      ]
     },
     "execution_count": 141,
     "metadata": {},
     "output_type": "execute_result"
    }
   ],
   "source": [
    "df.isnull().sum()  #any null values"
   ]
  },
  {
   "cell_type": "code",
   "execution_count": 142,
   "id": "295167fc-aff6-44c9-8cb0-52411b134b76",
   "metadata": {
    "tags": []
   },
   "outputs": [
    {
     "name": "stdout",
     "output_type": "stream",
     "text": [
      "<class 'pandas.core.frame.DataFrame'>\n",
      "DatetimeIndex: 42 entries, 2013-04-01 to 2023-07-01\n",
      "Data columns (total 1 columns):\n",
      " #   Column       Non-Null Count  Dtype\n",
      "---  ------       --------------  -----\n",
      " 0   Subscribers  42 non-null     int64\n",
      "dtypes: int64(1)\n",
      "memory usage: 1.7 KB\n"
     ]
    }
   ],
   "source": [
    "df.info()"
   ]
  },
  {
   "cell_type": "code",
   "execution_count": 8,
   "id": "ee1ea2b2-3a41-48c9-a1d8-bc985479ef3b",
   "metadata": {
    "tags": []
   },
   "outputs": [
    {
     "data": {
      "text/html": [
       "<div>\n",
       "<style scoped>\n",
       "    .dataframe tbody tr th:only-of-type {\n",
       "        vertical-align: middle;\n",
       "    }\n",
       "\n",
       "    .dataframe tbody tr th {\n",
       "        vertical-align: top;\n",
       "    }\n",
       "\n",
       "    .dataframe thead th {\n",
       "        text-align: right;\n",
       "    }\n",
       "</style>\n",
       "<table border=\"1\" class=\"dataframe\">\n",
       "  <thead>\n",
       "    <tr style=\"text-align: right;\">\n",
       "      <th></th>\n",
       "      <th>Subscribers</th>\n",
       "    </tr>\n",
       "  </thead>\n",
       "  <tbody>\n",
       "    <tr>\n",
       "      <th>count</th>\n",
       "      <td>4.200000e+01</td>\n",
       "    </tr>\n",
       "    <tr>\n",
       "      <th>mean</th>\n",
       "      <td>1.304243e+08</td>\n",
       "    </tr>\n",
       "    <tr>\n",
       "      <th>std</th>\n",
       "      <td>6.891896e+07</td>\n",
       "    </tr>\n",
       "    <tr>\n",
       "      <th>min</th>\n",
       "      <td>3.424000e+07</td>\n",
       "    </tr>\n",
       "    <tr>\n",
       "      <th>25%</th>\n",
       "      <td>6.722500e+07</td>\n",
       "    </tr>\n",
       "    <tr>\n",
       "      <th>50%</th>\n",
       "      <td>1.216250e+08</td>\n",
       "    </tr>\n",
       "    <tr>\n",
       "      <th>75%</th>\n",
       "      <td>2.015325e+08</td>\n",
       "    </tr>\n",
       "    <tr>\n",
       "      <th>max</th>\n",
       "      <td>2.383900e+08</td>\n",
       "    </tr>\n",
       "  </tbody>\n",
       "</table>\n",
       "</div>"
      ],
      "text/plain": [
       "        Subscribers\n",
       "count  4.200000e+01\n",
       "mean   1.304243e+08\n",
       "std    6.891896e+07\n",
       "min    3.424000e+07\n",
       "25%    6.722500e+07\n",
       "50%    1.216250e+08\n",
       "75%    2.015325e+08\n",
       "max    2.383900e+08"
      ]
     },
     "execution_count": 8,
     "metadata": {},
     "output_type": "execute_result"
    }
   ],
   "source": [
    "df.describe()"
   ]
  },
  {
   "cell_type": "code",
   "execution_count": 143,
   "id": "0a482677-f134-4928-8014-532d9b3f1de4",
   "metadata": {
    "tags": []
   },
   "outputs": [
    {
     "data": {
      "image/png": "[encoded data removed]",
      "text/plain": [
       "<Figure size 1000x600 with 1 Axes>"
      ]
     },
     "metadata": {},
     "output_type": "display_data"
    }
   ],
   "source": [
    "#visualize the data\n",
    "\n",
    "df.plot(figsize=(10,6))\n",
    "\n",
    "plt.show()"
   ]
  },
  {
   "cell_type": "markdown",
   "id": "660d3268-794d-444a-8ea0-e98c08255ee6",
   "metadata": {},
   "source": [
    "Clearly there is trend and since mean is not constant over time, this is not stationary. "
   ]
  },
  {
   "cell_type": "code",
   "execution_count": 144,
   "id": "842056fc-b68d-47d1-ba7d-5bac3c0b69e7",
   "metadata": {
    "tags": []
   },
   "outputs": [],
   "source": [
    "#Lets check the quarterly growth rate\n",
    "df['Quarterly growth rate']=df['Subscribers'].pct_change()*100"
   ]
  },
  {
   "cell_type": "code",
   "execution_count": 145,
   "id": "ccc886b7-f2af-4aa8-9ebe-9f57ce73c902",
   "metadata": {
    "tags": []
   },
   "outputs": [
    {
     "data": {
      "text/html": [
       "<div>\n",
       "<style scoped>\n",
       "    .dataframe tbody tr th:only-of-type {\n",
       "        vertical-align: middle;\n",
       "    }\n",
       "\n",
       "    .dataframe tbody tr th {\n",
       "        vertical-align: top;\n",
       "    }\n",
       "\n",
       "    .dataframe thead th {\n",
       "        text-align: right;\n",
       "    }\n",
       "</style>\n",
       "<table border=\"1\" class=\"dataframe\">\n",
       "  <thead>\n",
       "    <tr style=\"text-align: right;\">\n",
       "      <th></th>\n",
       "      <th>Subscribers</th>\n",
       "      <th>Quarterly growth rate</th>\n",
       "    </tr>\n",
       "    <tr>\n",
       "      <th>Time Period</th>\n",
       "      <th></th>\n",
       "      <th></th>\n",
       "    </tr>\n",
       "  </thead>\n",
       "  <tbody>\n",
       "    <tr>\n",
       "      <th>2013-04-01</th>\n",
       "      <td>34240000</td>\n",
       "      <td>NaN</td>\n",
       "    </tr>\n",
       "    <tr>\n",
       "      <th>2013-07-01</th>\n",
       "      <td>35640000</td>\n",
       "      <td>4.088785</td>\n",
       "    </tr>\n",
       "    <tr>\n",
       "      <th>2013-10-01</th>\n",
       "      <td>38010000</td>\n",
       "      <td>6.649832</td>\n",
       "    </tr>\n",
       "    <tr>\n",
       "      <th>2014-01-01</th>\n",
       "      <td>41430000</td>\n",
       "      <td>8.997632</td>\n",
       "    </tr>\n",
       "    <tr>\n",
       "      <th>2014-04-01</th>\n",
       "      <td>46130000</td>\n",
       "      <td>11.344436</td>\n",
       "    </tr>\n",
       "  </tbody>\n",
       "</table>\n",
       "</div>"
      ],
      "text/plain": [
       "             Subscribers  Quarterly growth rate\n",
       "Time Period                                    \n",
       "2013-04-01      34240000                    NaN\n",
       "2013-07-01      35640000               4.088785\n",
       "2013-10-01      38010000               6.649832\n",
       "2014-01-01      41430000               8.997632\n",
       "2014-04-01      46130000              11.344436"
      ]
     },
     "execution_count": 145,
     "metadata": {},
     "output_type": "execute_result"
    }
   ],
   "source": [
    "df.head()"
   ]
  },
  {
   "cell_type": "code",
   "execution_count": 146,
   "id": "3771ae05-910f-4b13-8474-9f1a37b4b718",
   "metadata": {
    "tags": []
   },
   "outputs": [],
   "source": [
    "df['Quarterly growth rate'].fillna(0,inplace=True)"
   ]
  },
  {
   "cell_type": "code",
   "execution_count": 147,
   "id": "15bfe44e-f7f9-4564-9873-073adfb8ce6c",
   "metadata": {
    "tags": []
   },
   "outputs": [
    {
     "data": {
      "text/plain": [
       "<Axes: xlabel='Time Period'>"
      ]
     },
     "execution_count": 147,
     "metadata": {},
     "output_type": "execute_result"
    },
    {
     "data": {
      "image/png": "[encoded data removed]",
      "text/plain": [
       "<Figure size 2000x1000 with 1 Axes>"
      ]
     },
     "metadata": {},
     "output_type": "display_data"
    }
   ],
   "source": [
    "df['Quarterly growth rate'].plot(kind='bar',figsize=(20,10))"
   ]
  },
  {
   "cell_type": "code",
   "execution_count": 148,
   "id": "171c48ce-0aff-41e3-abf5-e86e047e7f3f",
   "metadata": {
    "tags": []
   },
   "outputs": [],
   "source": [
    "df.drop(['Quarterly growth rate'],axis=1,inplace=True)"
   ]
  },
  {
   "cell_type": "code",
   "execution_count": 149,
   "id": "1fb01f33-c690-4184-b6ee-91bfdcc96edf",
   "metadata": {
    "tags": []
   },
   "outputs": [],
   "source": [
    "##TAKING DIFFERENCE\n",
    "df['first difference']=df['Subscribers'].diff()"
   ]
  },
  {
   "cell_type": "code",
   "execution_count": 150,
   "id": "7ec4b37f-b134-4b6c-9f02-82a4f3222a94",
   "metadata": {
    "tags": []
   },
   "outputs": [
    {
     "data": {
      "text/html": [
       "<div>\n",
       "<style scoped>\n",
       "    .dataframe tbody tr th:only-of-type {\n",
       "        vertical-align: middle;\n",
       "    }\n",
       "\n",
       "    .dataframe tbody tr th {\n",
       "        vertical-align: top;\n",
       "    }\n",
       "\n",
       "    .dataframe thead th {\n",
       "        text-align: right;\n",
       "    }\n",
       "</style>\n",
       "<table border=\"1\" class=\"dataframe\">\n",
       "  <thead>\n",
       "    <tr style=\"text-align: right;\">\n",
       "      <th></th>\n",
       "      <th>Subscribers</th>\n",
       "      <th>first difference</th>\n",
       "    </tr>\n",
       "    <tr>\n",
       "      <th>Time Period</th>\n",
       "      <th></th>\n",
       "      <th></th>\n",
       "    </tr>\n",
       "  </thead>\n",
       "  <tbody>\n",
       "    <tr>\n",
       "      <th>2013-04-01</th>\n",
       "      <td>34240000</td>\n",
       "      <td>NaN</td>\n",
       "    </tr>\n",
       "    <tr>\n",
       "      <th>2013-07-01</th>\n",
       "      <td>35640000</td>\n",
       "      <td>1400000.0</td>\n",
       "    </tr>\n",
       "    <tr>\n",
       "      <th>2013-10-01</th>\n",
       "      <td>38010000</td>\n",
       "      <td>2370000.0</td>\n",
       "    </tr>\n",
       "    <tr>\n",
       "      <th>2014-01-01</th>\n",
       "      <td>41430000</td>\n",
       "      <td>3420000.0</td>\n",
       "    </tr>\n",
       "    <tr>\n",
       "      <th>2014-04-01</th>\n",
       "      <td>46130000</td>\n",
       "      <td>4700000.0</td>\n",
       "    </tr>\n",
       "  </tbody>\n",
       "</table>\n",
       "</div>"
      ],
      "text/plain": [
       "             Subscribers  first difference\n",
       "Time Period                               \n",
       "2013-04-01      34240000               NaN\n",
       "2013-07-01      35640000         1400000.0\n",
       "2013-10-01      38010000         2370000.0\n",
       "2014-01-01      41430000         3420000.0\n",
       "2014-04-01      46130000         4700000.0"
      ]
     },
     "execution_count": 150,
     "metadata": {},
     "output_type": "execute_result"
    }
   ],
   "source": [
    "df.head()"
   ]
  },
  {
   "cell_type": "code",
   "execution_count": 17,
   "id": "aa1feefd-a207-4fb4-8739-7bcfaa0a8e7c",
   "metadata": {
    "tags": []
   },
   "outputs": [],
   "source": [
    "df['difference']=df['Subscribers']-df['Subscribers'].shift(1)"
   ]
  },
  {
   "cell_type": "code",
   "execution_count": 18,
   "id": "fbca09b0-614d-4b1d-b982-4525b3208dcb",
   "metadata": {
    "tags": []
   },
   "outputs": [],
   "source": [
    "df.drop('difference',axis=1,inplace=True)"
   ]
  },
  {
   "cell_type": "code",
   "execution_count": 19,
   "id": "a165c9e9-21a5-4579-94d0-60e007b83974",
   "metadata": {
    "tags": []
   },
   "outputs": [
    {
     "data": {
      "text/html": [
       "<div>\n",
       "<style scoped>\n",
       "    .dataframe tbody tr th:only-of-type {\n",
       "        vertical-align: middle;\n",
       "    }\n",
       "\n",
       "    .dataframe tbody tr th {\n",
       "        vertical-align: top;\n",
       "    }\n",
       "\n",
       "    .dataframe thead th {\n",
       "        text-align: right;\n",
       "    }\n",
       "</style>\n",
       "<table border=\"1\" class=\"dataframe\">\n",
       "  <thead>\n",
       "    <tr style=\"text-align: right;\">\n",
       "      <th></th>\n",
       "      <th>Subscribers</th>\n",
       "      <th>first difference</th>\n",
       "    </tr>\n",
       "    <tr>\n",
       "      <th>Time Period</th>\n",
       "      <th></th>\n",
       "      <th></th>\n",
       "    </tr>\n",
       "  </thead>\n",
       "  <tbody>\n",
       "    <tr>\n",
       "      <th>2013-01-04</th>\n",
       "      <td>34240000</td>\n",
       "      <td>NaN</td>\n",
       "    </tr>\n",
       "    <tr>\n",
       "      <th>2013-01-07</th>\n",
       "      <td>35640000</td>\n",
       "      <td>1400000.0</td>\n",
       "    </tr>\n",
       "    <tr>\n",
       "      <th>2013-01-10</th>\n",
       "      <td>38010000</td>\n",
       "      <td>2370000.0</td>\n",
       "    </tr>\n",
       "    <tr>\n",
       "      <th>2014-01-01</th>\n",
       "      <td>41430000</td>\n",
       "      <td>3420000.0</td>\n",
       "    </tr>\n",
       "    <tr>\n",
       "      <th>2014-01-04</th>\n",
       "      <td>46130000</td>\n",
       "      <td>4700000.0</td>\n",
       "    </tr>\n",
       "  </tbody>\n",
       "</table>\n",
       "</div>"
      ],
      "text/plain": [
       "             Subscribers  first difference\n",
       "Time Period                               \n",
       "2013-01-04      34240000               NaN\n",
       "2013-01-07      35640000         1400000.0\n",
       "2013-01-10      38010000         2370000.0\n",
       "2014-01-01      41430000         3420000.0\n",
       "2014-01-04      46130000         4700000.0"
      ]
     },
     "execution_count": 19,
     "metadata": {},
     "output_type": "execute_result"
    }
   ],
   "source": [
    "df.head()"
   ]
  },
  {
   "cell_type": "code",
   "execution_count": 151,
   "id": "e71868e0-5ab5-41b8-8916-e664aaf4fcba",
   "metadata": {
    "tags": []
   },
   "outputs": [],
   "source": [
    "test_result=adfuller(df['Subscribers'])"
   ]
  },
  {
   "cell_type": "code",
   "execution_count": 152,
   "id": "bada0686-34dd-4e5a-a3c2-34df09e60184",
   "metadata": {
    "tags": []
   },
   "outputs": [
    {
     "data": {
      "text/plain": [
       "(0.20591078338329463,\n",
       " 0.9725911700133492,\n",
       " 1,\n",
       " 40,\n",
       " {'1%': -3.6055648906249997, '5%': -2.937069375, '10%': -2.606985625},\n",
       " 1023.0000365635849)"
      ]
     },
     "execution_count": 152,
     "metadata": {},
     "output_type": "execute_result"
    }
   ],
   "source": [
    "test_result"
   ]
  },
  {
   "cell_type": "markdown",
   "id": "5479506d-09af-44eb-9bd7-76085ef81d94",
   "metadata": {},
   "source": [
    "We can see a p-value>0.05, so not stationary"
   ]
  },
  {
   "cell_type": "code",
   "execution_count": 153,
   "id": "3cfdd960-7176-4f22-9438-90fbc9e0935f",
   "metadata": {
    "tags": []
   },
   "outputs": [],
   "source": [
    "test_stationarity_2=adfuller(df['first difference'].dropna())"
   ]
  },
  {
   "cell_type": "code",
   "execution_count": 154,
   "id": "a3f2dce2-ad84-44a3-8f2d-b63b73267328",
   "metadata": {
    "tags": []
   },
   "outputs": [
    {
     "data": {
      "text/plain": [
       "(-4.523088428253381,\n",
       " 0.00017858926729786263,\n",
       " 0,\n",
       " 40,\n",
       " {'1%': -3.6055648906249997, '5%': -2.937069375, '10%': -2.606985625},\n",
       " 989.8123754489892)"
      ]
     },
     "execution_count": 154,
     "metadata": {},
     "output_type": "execute_result"
    }
   ],
   "source": [
    "test_stationarity_2"
   ]
  },
  {
   "cell_type": "markdown",
   "id": "2009e53b-6af4-477e-be51-e2355c2dcbda",
   "metadata": {},
   "source": [
    "Clearly, p <<0.05, which says that the first difference is stationary\n"
   ]
  },
  {
   "cell_type": "code",
   "execution_count": 155,
   "id": "d7cd0652-e937-4b0f-ae0a-7764eeb8b3e2",
   "metadata": {
    "tags": []
   },
   "outputs": [
    {
     "data": {
      "text/plain": [
       "<Axes: xlabel='Time Period'>"
      ]
     },
     "execution_count": 155,
     "metadata": {},
     "output_type": "execute_result"
    },
    {
     "data": {
      "image/png": "[encoded data removed]",
      "text/plain": [
       "<Figure size 640x480 with 1 Axes>"
      ]
     },
     "metadata": {},
     "output_type": "display_data"
    }
   ],
   "source": [
    "df['first difference'].plot()"
   ]
  },
  {
   "cell_type": "markdown",
   "id": "ec63e977-e99e-406f-861b-7c9653e1135b",
   "metadata": {},
   "source": [
    "modelling\n",
    "\n",
    "\n",
    "We are using a ARIMA model. ARIMA model requires three hyper parameters-p,q,d. We can get p and q from acf and pacf plots and d id the number of differencing it took to make the time series stationary. d=1 in this case"
   ]
  },
  {
   "cell_type": "code",
   "execution_count": 156,
   "id": "449f4a41-fe71-41ac-b873-d71dc8a4827e",
   "metadata": {},
   "outputs": [
    {
     "data": {
      "image/png": "[encoded data removed]",
      "text/plain": [
       "<Figure size 1000x1000 with 2 Axes>"
      ]
     },
     "metadata": {},
     "output_type": "display_data"
    }
   ],
   "source": [
    "fig,axs=plt.subplots(2,figsize=(10,10))\n",
    "plot_acf(df['first difference'].iloc[1:],ax=axs[0])\n",
    "plot_pacf(df['first difference'].iloc[1:],ax=axs[1])\n",
    "plt.show()"
   ]
  },
  {
   "cell_type": "markdown",
   "id": "0e835c44-77a7-46a2-8ecf-a07f17913636",
   "metadata": {},
   "source": [
    "We can get the order of the AR model from the PCAF plot. We can see that after lag 1 , the pcaf values are statistically very low with very low significance. So we will consider p=1\n"
   ]
  },
  {
   "cell_type": "markdown",
   "id": "91cd373e-ed8c-479c-a92b-d59d26c131bd",
   "metadata": {},
   "source": [
    "For the q value, which is the order of the MA model, we check the acf values for the lag. The ACF values cuts off at lag 1 , so q=1"
   ]
  },
  {
   "cell_type": "code",
   "execution_count": 160,
   "id": "53062ff1-f147-4105-a36d-b4c29bb57342",
   "metadata": {
    "tags": []
   },
   "outputs": [],
   "source": [
    "##make predictions on test data\n",
    "split_point=int(len(df)*0.8) \n",
    "# splitting the data into training and testing data in 80:20 ratio\n",
    "train_data=df['Subscribers'].iloc[:split_point]\n",
    "test_data=df['Subscribers'].iloc[split_point:]\n"
   ]
  },
  {
   "cell_type": "code",
   "execution_count": 159,
   "id": "65e6e877-0233-4278-93a1-391ed9d0d6d6",
   "metadata": {
    "tags": []
   },
   "outputs": [
    {
     "data": {
      "text/plain": [
       "(33,)"
      ]
     },
     "execution_count": 159,
     "metadata": {},
     "output_type": "execute_result"
    }
   ],
   "source": [
    "train_df.shape"
   ]
  },
  {
   "cell_type": "code",
   "execution_count": 124,
   "id": "4cef8983-60f8-4565-bcbf-119b8e2333bb",
   "metadata": {
    "tags": []
   },
   "outputs": [],
   "source": [
    "# train_end = datetime(2021,7,1)\n",
    "# test_end = datetime(2023,7,1)\n",
    "\n",
    "# train_data = df['Subscribers'][:train_end]\n",
    "# test_data = df['Subscribers'][train_end + timedelta(days=1):test_end]\n"
   ]
  },
  {
   "cell_type": "code",
   "execution_count": 125,
   "id": "682cc52c-1750-43a7-a25f-60c25977ccb4",
   "metadata": {
    "tags": []
   },
   "outputs": [
    {
     "data": {
      "text/plain": [
       "datetime.datetime(2023, 7, 1, 0, 0)"
      ]
     },
     "execution_count": 125,
     "metadata": {},
     "output_type": "execute_result"
    }
   ],
   "source": [
    "test_end"
   ]
  },
  {
   "cell_type": "code",
   "execution_count": 69,
   "id": "142647b7-3004-4fec-af8b-fe8f6986829f",
   "metadata": {
    "tags": []
   },
   "outputs": [
    {
     "data": {
      "text/plain": [
       "Subscribers         209180000.0\n",
       "first difference      1540000.0\n",
       "Name: 2021-01-07, dtype: float64"
      ]
     },
     "execution_count": 69,
     "metadata": {},
     "output_type": "execute_result"
    }
   ],
   "source": [
    "split_point=int(len(df)*0.8) \n",
    "df.iloc[split_point]"
   ]
  },
  {
   "cell_type": "code",
   "execution_count": 161,
   "id": "88ccbbe9-2e3a-4228-a473-eb18cc273b0c",
   "metadata": {
    "tags": []
   },
   "outputs": [
    {
     "data": {
      "text/plain": [
       "((33,), (9,))"
      ]
     },
     "execution_count": 161,
     "metadata": {},
     "output_type": "execute_result"
    }
   ],
   "source": [
    "train_data.shape,test_data.shape"
   ]
  },
  {
   "cell_type": "code",
   "execution_count": 162,
   "id": "a22e5e9c-9f67-4db9-9384-cc191edf0049",
   "metadata": {
    "tags": []
   },
   "outputs": [
    {
     "data": {
      "text/plain": [
       "Time Period\n",
       "2013-04-01     34240000\n",
       "2013-07-01     35640000\n",
       "2013-10-01     38010000\n",
       "2014-01-01     41430000\n",
       "2014-04-01     46130000\n",
       "2014-07-01     47990000\n",
       "2014-10-01     50650000\n",
       "2015-01-01     54480000\n",
       "2015-04-01     59620000\n",
       "2015-07-01     62080000\n",
       "2015-10-01     66020000\n",
       "2016-01-01     70840000\n",
       "2016-04-01     77710000\n",
       "2016-07-01     79900000\n",
       "2016-10-01     83280000\n",
       "2017-01-01     89090000\n",
       "2017-04-01     94360000\n",
       "2017-07-01     99040000\n",
       "2017-10-01    104020000\n",
       "2018-01-01    110640000\n",
       "2018-04-01    118900000\n",
       "2018-07-01    124350000\n",
       "2018-10-01    130420000\n",
       "2019-01-01    139260000\n",
       "2019-04-01    148860000\n",
       "2019-07-01    151560000\n",
       "2019-10-01    158330000\n",
       "2020-01-01    167090000\n",
       "2020-04-01    182860000\n",
       "2020-07-01    192950000\n",
       "2020-10-01    195150000\n",
       "2021-01-01    203660000\n",
       "2021-04-01    207640000\n",
       "Name: Subscribers, dtype: int64"
      ]
     },
     "execution_count": 162,
     "metadata": {},
     "output_type": "execute_result"
    }
   ],
   "source": [
    "train_data"
   ]
  },
  {
   "cell_type": "code",
   "execution_count": 165,
   "id": "fa137801-d375-4c38-bee4-add19fda4406",
   "metadata": {
    "tags": []
   },
   "outputs": [
    {
     "name": "stdout",
     "output_type": "stream",
     "text": [
      "time taken 0.05489706993103027 secs\n"
     ]
    },
    {
     "name": "stderr",
     "output_type": "stream",
     "text": [
      "C:\\Users\\sbana\\anaconda3\\envs\\tensorflow\\lib\\site-packages\\statsmodels\\tsa\\base\\tsa_model.py:473: ValueWarning: No frequency information was provided, so inferred frequency QS-OCT will be used.\n",
      "  self._init_dates(dates, freq)\n",
      "C:\\Users\\sbana\\anaconda3\\envs\\tensorflow\\lib\\site-packages\\statsmodels\\tsa\\base\\tsa_model.py:473: ValueWarning: No frequency information was provided, so inferred frequency QS-OCT will be used.\n",
      "  self._init_dates(dates, freq)\n",
      "C:\\Users\\sbana\\anaconda3\\envs\\tensorflow\\lib\\site-packages\\statsmodels\\tsa\\base\\tsa_model.py:473: ValueWarning: No frequency information was provided, so inferred frequency QS-OCT will be used.\n",
      "  self._init_dates(dates, freq)\n"
     ]
    }
   ],
   "source": [
    "#p=1,d=1,q=1\n",
    "model=ARIMA(train_data,order=(1,1,1))\n",
    "start=time.time()\n",
    "model_fit=model.fit()\n",
    "end=time.time()\n",
    "print('time taken',end-start,'secs')"
   ]
  },
  {
   "cell_type": "code",
   "execution_count": 166,
   "id": "dc302b11-d7d5-457c-8350-cfbb5d94037e",
   "metadata": {
    "tags": []
   },
   "outputs": [
    {
     "name": "stdout",
     "output_type": "stream",
     "text": [
      "                               SARIMAX Results                                \n",
      "==============================================================================\n",
      "Dep. Variable:            Subscribers   No. Observations:                   33\n",
      "Model:                 ARIMA(1, 1, 1)   Log Likelihood                -523.883\n",
      "Date:                Sun, 04 Feb 2024   AIC                           1053.766\n",
      "Time:                        23:56:37   BIC                           1058.163\n",
      "Sample:                    04-01-2013   HQIC                          1055.224\n",
      "                         - 04-01-2021                                         \n",
      "Covariance Type:                  opg                                         \n",
      "==============================================================================\n",
      "                 coef    std err          z      P>|z|      [0.025      0.975]\n",
      "------------------------------------------------------------------------------\n",
      "ar.L1          1.0000      0.003    297.835      0.000       0.993       1.007\n",
      "ma.L1         -0.9970      0.204     -4.895      0.000      -1.396      -0.598\n",
      "sigma2      1.024e+13   1.99e-14   5.13e+26      0.000    1.02e+13    1.02e+13\n",
      "===================================================================================\n",
      "Ljung-Box (L1) (Q):                   2.87   Jarque-Bera (JB):                10.74\n",
      "Prob(Q):                              0.09   Prob(JB):                         0.00\n",
      "Heteroskedasticity (H):               7.08   Skew:                             1.05\n",
      "Prob(H) (two-sided):                  0.00   Kurtosis:                         4.90\n",
      "===================================================================================\n",
      "\n",
      "Warnings:\n",
      "[1] Covariance matrix calculated using the outer product of gradients (complex-step).\n",
      "[2] Covariance matrix is singular or near-singular, with condition number 1.53e+42. Standard errors may be unstable.\n"
     ]
    }
   ],
   "source": [
    "print(model_fit.summary())"
   ]
  },
  {
   "cell_type": "code",
   "execution_count": 167,
   "id": "999439f4-e518-4d18-8faf-c28df93c1cbc",
   "metadata": {
    "tags": []
   },
   "outputs": [],
   "source": [
    "###MAKING PREDICTION\n",
    "start_date=test_data.index[0]\n",
    "end_date=test_data.index[-1]"
   ]
  },
  {
   "cell_type": "code",
   "execution_count": 168,
   "id": "a3d55082-b437-4c59-a811-6693b66b528b",
   "metadata": {
    "tags": []
   },
   "outputs": [
    {
     "data": {
      "text/plain": [
       "Timestamp('2021-07-01 00:00:00')"
      ]
     },
     "execution_count": 168,
     "metadata": {},
     "output_type": "execute_result"
    }
   ],
   "source": [
    "start_date"
   ]
  },
  {
   "cell_type": "code",
   "execution_count": 170,
   "id": "95b9c1da-6848-4646-985c-c530ff715506",
   "metadata": {
    "tags": []
   },
   "outputs": [],
   "source": [
    "predictions=model_fit.predict(start=start_date,end=end_date)\n",
    "residuals=test_df-predictions"
   ]
  },
  {
   "cell_type": "code",
   "execution_count": 171,
   "id": "f5c9216a-490c-4e06-a887-c39c51fad45b",
   "metadata": {
    "tags": []
   },
   "outputs": [
    {
     "data": {
      "text/plain": [
       "2021-07-01    2.130341e+08\n",
       "2021-10-01    2.184281e+08\n",
       "2022-01-01    2.238219e+08\n",
       "2022-04-01    2.292156e+08\n",
       "2022-07-01    2.346092e+08\n",
       "2022-10-01    2.400026e+08\n",
       "2023-01-01    2.453959e+08\n",
       "2023-04-01    2.507891e+08\n",
       "2023-07-01    2.561821e+08\n",
       "Freq: QS-OCT, Name: predicted_mean, dtype: float64"
      ]
     },
     "execution_count": 171,
     "metadata": {},
     "output_type": "execute_result"
    }
   ],
   "source": [
    "predictions"
   ]
  },
  {
   "cell_type": "code",
   "execution_count": 176,
   "id": "c3cfe5ef-7014-4844-8254-e1da86ea6faa",
   "metadata": {
    "tags": []
   },
   "outputs": [
    {
     "data": {
      "image/png": "[encoded data removed]",
      "text/plain": [
       "<Figure size 1000x600 with 1 Axes>"
      ]
     },
     "metadata": {},
     "output_type": "display_data"
    }
   ],
   "source": [
    "plt.figure(figsize=(10,6))\n",
    "plt.plot(df['Subscribers'],label='True values')\n",
    "plt.plot(predictions,label='Predicted values')\n",
    "plt.legend()  \n",
    "plt.show()           "
   ]
  },
  {
   "cell_type": "code",
   "execution_count": 179,
   "id": "02e9c9a1-311a-4f40-a963-0de7db8f89a8",
   "metadata": {
    "tags": []
   },
   "outputs": [
    {
     "name": "stderr",
     "output_type": "stream",
     "text": [
      "C:\\Users\\sbana\\anaconda3\\envs\\tensorflow\\lib\\site-packages\\statsmodels\\tsa\\base\\tsa_model.py:473: ValueWarning: No frequency information was provided, so inferred frequency QS-OCT will be used.\n",
      "  self._init_dates(dates, freq)\n",
      "C:\\Users\\sbana\\anaconda3\\envs\\tensorflow\\lib\\site-packages\\statsmodels\\tsa\\base\\tsa_model.py:473: ValueWarning: No frequency information was provided, so inferred frequency QS-OCT will be used.\n",
      "  self._init_dates(dates, freq)\n",
      "C:\\Users\\sbana\\anaconda3\\envs\\tensorflow\\lib\\site-packages\\statsmodels\\tsa\\base\\tsa_model.py:473: ValueWarning: No frequency information was provided, so inferred frequency QS-OCT will be used.\n",
      "  self._init_dates(dates, freq)\n"
     ]
    }
   ],
   "source": [
    "#forcasting future\n",
    "model_1=ARIMA(df['Subscribers'],order=(1,1,1))\n",
    "model_fit_1=model.fit()"
   ]
  },
  {
   "cell_type": "code",
   "execution_count": 181,
   "id": "46ee1af9-9476-44a9-95a8-33dffc91e239",
   "metadata": {
    "tags": []
   },
   "outputs": [],
   "source": [
    "future_quarters=4\n",
    "predictions_1=model_fit_1.predict(start=len(df),end=len(df)+future_quarters-1)\n"
   ]
  },
  {
   "cell_type": "code",
   "execution_count": 182,
   "id": "77800ddc-d589-4600-961b-31266b795bde",
   "metadata": {
    "tags": []
   },
   "outputs": [
    {
     "data": {
      "image/png": "[encoded data removed]",
      "text/plain": [
       "<Figure size 1000x600 with 1 Axes>"
      ]
     },
     "metadata": {},
     "output_type": "display_data"
    }
   ],
   "source": [
    "plt.figure(figsize=(10,6))\n",
    "plt.plot(df['Subscribers'],label='True values')\n",
    "plt.plot(predictions_1,label='Future values')\n",
    "plt.legend()  \n",
    "plt.show()  "
   ]
  },
  {
   "cell_type": "code",
   "execution_count": null,
   "id": "50462a21-9a69-402d-aaed-26c87e752611",
   "metadata": {},
   "outputs": [],
   "source": []
  }
 ],
 "metadata": {
  "kernelspec": {
   "display_name": "Python 3 (ipykernel)",
   "language": "python",
   "name": "python3"
  },
  "language_info": {
   "codemirror_mode": {
    "name": "ipython",
    "version": 3
   },
   "file_extension": ".py",
   "mimetype": "text/x-python",
   "name": "python",
   "nbconvert_exporter": "python",
   "pygments_lexer": "ipython3",
   "version": "3.9.17"
  }
 },
 "nbformat": 4,
 "nbformat_minor": 5
}
